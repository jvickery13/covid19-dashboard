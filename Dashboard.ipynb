{
 "cells": [
  {
   "cell_type": "markdown",
   "metadata": {},
   "source": [
    "[DIY Covid-19 Dashboard Kit](https://github.com/fsmeraldi/diy-covid19dash) (C) Fabrizio Smeraldi, 2020 ([f.smeraldi@qmul.ac.uk](mailto:f.smeraldi@qmul.ac.uk) - [web](http://www.eecs.qmul.ac.uk/~fabri/)). All rights reserved."
   ]
  },
  {
   "cell_type": "markdown",
   "metadata": {},
   "source": [
    "# DIY Covid-19 Dashboard"
   ]
  },
  {
   "cell_type": "code",
   "execution_count": 2,
   "metadata": {},
   "outputs": [],
   "source": [
    "from IPython.display import clear_output\n",
    "import ipywidgets as wdg\n",
    "import pandas as pd\n",
    "import numpy as np\n",
    "import matplotlib.pyplot as plt\n",
    "import json\n",
    "from uk_covid19 import Cov19API"
   ]
  },
  {
   "cell_type": "code",
   "execution_count": 3,
   "metadata": {},
   "outputs": [],
   "source": [
    "%matplotlib inline\n",
    "# make figures larger\n",
    "plt.rcParams['figure.dpi'] = 100"
   ]
  },
  {
   "cell_type": "code",
   "execution_count": 4,
   "metadata": {},
   "outputs": [],
   "source": [
    "# Load JSON files and store the raw data in some variable. Edit as appropriate\n",
    "with open('pcr_tests.json', 'rt') as INFILE:\n",
    "    data=json.load(INFILE)\n"
   ]
  },
  {
   "cell_type": "code",
   "execution_count": 8,
   "metadata": {},
   "outputs": [
    {
     "name": "stdout",
     "output_type": "stream",
     "text": [
      "              pcr_tests       cases\n",
      "2020-01-31          0.0         2.0\n",
      "2020-02-01          0.0         2.0\n",
      "2020-02-02          0.0         2.0\n",
      "2020-02-03          0.0         2.0\n",
      "2020-02-04          0.0         2.0\n",
      "...                 ...         ...\n",
      "2022-05-16  212281005.0  22203799.0\n",
      "2022-05-17  212574700.0  22212395.0\n",
      "2022-05-18  212658028.0  22220178.0\n",
      "2022-05-19  212754383.0  22232377.0\n",
      "2022-05-20          0.0  22238713.0\n",
      "\n",
      "[841 rows x 2 columns]\n"
     ]
    }
   ],
   "source": [
    "def parse_date(datestring):\n",
    "    '''convert a date string into a pandas datetime object'''\n",
    "    return pd.to_datetime(datestring, format='%Y-%m-%d')\n",
    "\n",
    "def wrangle_data(rawdata):\n",
    "    \"\"\" Parameters: rawdata - data from json file or API call. Returns a dataframe.\n",
    "    Edit to include the code that wrangles the data, creates the dataframe and fills it in. \"\"\"\n",
    "    datalist = rawdata['data']\n",
    "    dates = [dictionary['date'] for dictionary in datalist]\n",
    "    dates.sort()\n",
    "    startdate = parse_date(dates[0])\n",
    "    enddate = parse_date(dates[-1]) \n",
    "    index = pd.date_range(startdate,enddate,freq='D')\n",
    "    timeseriesdf=pd.DataFrame(index=index, columns=['pcr_tests', 'cases']) \n",
    "    for entry in datalist: \n",
    "        date = parse_date(entry['date']) \n",
    "        for column in ['pcr_tests', 'cases']:\n",
    "            if pd.isna(timeseriesdf.loc[date,column]):\n",
    "                value =float(entry[column]) if entry[column]!=None else 0.0\n",
    "                timeseriesdf.loc[date,column]=value\n",
    "\n",
    "          \n",
    "\n",
    "    timeseriesdf.fillna(0.0, inplace=True) \n",
    "    pcr_vs_cases = timeseriesdf\n",
    "    return pcr_vs_cases\n",
    "\n",
    "# putting the wrangling code into a function allows you to call it again after refreshing the data through \n",
    "# the API. You should call the function directly on the JSON data when the dashboard starts, by including \n",
    "# the call in the cell as below:\n",
    "df=wrangle_data(data) # df is the dataframe for plotting\n",
    "print(df)"
   ]
  },
  {
   "cell_type": "markdown",
   "metadata": {},
   "source": [
    "## Download current data"
   ]
  },
  {
   "cell_type": "code",
   "execution_count": null,
   "metadata": {},
   "outputs": [],
   "source": [
    "# Place your API access code in this function. Do not call this function directly; it will be called by \n",
    "# the button callback. \n",
    "from uk_covid19 import Cov19API\n",
    "import json\n",
    "def access_api():\n",
    "    \"\"\" Accesses the PHE API. Returns raw data in the same format as data loaded from the \"canned\" JSON file. \"\"\"\n",
    "    filters_pcr = ['areaType=overview']\n",
    "    structures_pcr = {'date':'date','pcr_tests':'cumPCRTestsByPublishDate', \n",
    "                      \"cases\": \"cumCasesByPublishDate\"} \n",
    "    api = Cov19API(filters=filters_pcr, structure=structures_pcr)\n",
    "    return api # return data read from the API\n"
   ]
  },
  {
   "cell_type": "code",
   "execution_count": 12,
   "metadata": {},
   "outputs": [
    {
     "data": {
      "application/vnd.jupyter.widget-view+json": {
       "model_id": "8e6aec8408cb4ab5aad0315da05b6a8a",
       "version_major": 2,
       "version_minor": 0
      },
      "text/plain": [
       "Button(button_style='info', description='Refresh', icon='download', style=ButtonStyle(), tooltip='Keep calm an…"
      ]
     },
     "metadata": {},
     "output_type": "display_data"
    }
   ],
   "source": [
    "# Printout from this function will be lost in Voila unless captured in an\n",
    "# output widget - therefore, we give feedback to the user by changing the \n",
    "# appearance of the button\n",
    "def api_button_callback(button):\n",
    "    \"\"\" Button callback - it must take the button as its parameter (unused in this case).\n",
    "    Accesses API, wrangles data, updates global variable df used for plotting. \"\"\"\n",
    "    # Get fresh data from the API. If you have time, include some error handling\n",
    "    # around this call.\n",
    "    apidata=access_api()\n",
    "    # wrangle the data and overwrite the dataframe for plotting\n",
    "    global df\n",
    "    df=wrangle_data(apidata)\n",
    "    # the graph won't refresh until the user interacts with the widget.\n",
    "    # this function simulates the interaction, see Graph and Analysis below.\n",
    "    # you can omit this step in the first instance\n",
    "    refresh_graph()\n",
    "    # after all is done, you can switch the icon on the button to a \"check\" sign\n",
    "    # and optionally disable the button - it won't be needed again. You can use icons\n",
    "    # \"unlink\" or \"times\" and change the button text to \"Unavailable\" in case the \n",
    "    # api call fails.\n",
    "    apibutton.icon=\"check\"\n",
    "    apibutton.disabled=True\n",
    "\n",
    "    \n",
    "apibutton=wdg.Button(\n",
    "    description='Refresh', # you may want to change this...\n",
    "    disabled=False,\n",
    "    button_style='info', # 'success', 'info', 'warning', 'danger' or ''\n",
    "    tooltip=\"Keep calm and carry on\",\n",
    "    # FontAwesome names without the `fa-` prefix - try \"download\"\n",
    "    icon='download'\n",
    ")\n",
    "\n",
    "# remember to register your button callback function with the button\n",
    "apibutton.on_click(api_button_callback) # the name of your function inside these brackets\n",
    "\n",
    "display(apibutton)\n",
    "\n",
    "# run all cells before clicking on this button"
   ]
  },
  {
   "cell_type": "markdown",
   "metadata": {},
   "source": [
    "## Graphs and Analysis"
   ]
  },
  {
   "cell_type": "markdown",
   "metadata": {},
   "source": [
    "Click the options to show the graph"
   ]
  },
  {
   "cell_type": "code",
   "execution_count": 13,
   "metadata": {},
   "outputs": [
    {
     "data": {
      "application/vnd.jupyter.widget-view+json": {
       "model_id": "1f1f69fce2eb40f5beeb2a0268920d8a",
       "version_major": 2,
       "version_minor": 0
      },
      "text/plain": [
       "HBox(children=(SelectMultiple(description='Stats: ', options=('pcr_tests', 'cases'), rows=2, value=()), RadioB…"
      ]
     },
     "metadata": {},
     "output_type": "display_data"
    },
    {
     "data": {
      "application/vnd.jupyter.widget-view+json": {
       "model_id": "d9dd5cb1851d4d93ae0cfdf883887ac1",
       "version_major": 2,
       "version_minor": 0
      },
      "text/plain": [
       "Output()"
      ]
     },
     "metadata": {},
     "output_type": "display_data"
    }
   ],
   "source": [
    "series = wdg.SelectMultiple(\n",
    "    options=['pcr_tests','cases'],\n",
    "    values = ['pcr_tests','cases'],\n",
    "    rows = 2,\n",
    "    description ='Stats: ',\n",
    "    disabled = False\n",
    ")\n",
    "scale = wdg.RadioButtons(\n",
    "    options=['Linear', 'Log'], \n",
    "    description = 'Scale: ',\n",
    "    disabled = False\n",
    ") \n",
    "\n",
    "controls=wdg.HBox([series,scale])\n",
    "\n",
    "def timeseries_graph(gcols,gscale):\n",
    "    if gscale=='Linear':\n",
    "        logscale=False\n",
    "    else:\n",
    "        logscale=True\n",
    "    ncols = len(gcols)\n",
    "    if ncols>0:\n",
    "        df[list(gcols)].plot(logy=logscale)\n",
    "        plt.show()\n",
    "    else:\n",
    "        print('Click to select data for graph')\n",
    "        print('CTRL + click to select more than one category') \n",
    "\n",
    "def plot_pcr_test_cases(df):\n",
    "    df.plot()\n",
    "    plt.show() # important! update won't work properly without this\n",
    "    \n",
    "\n",
    "\n",
    "def refresh_graph():\n",
    "    \"\"\" We change the value of the widget in order to force a redraw of the graph;\n",
    "    this is useful when the data have been updated. This is a bit of a gimmick; it\n",
    "    needs to be customised for one of your widgets. \"\"\"\n",
    "    current=controls.value\n",
    "    if current==controls.options[0]:\n",
    "        other=controls.options[1]\n",
    "    else:\n",
    "        other=controls.options[0]\n",
    "    controls.value=other # forces the redraw\n",
    "    controls.value=current # now we can change it back\n",
    "    \n",
    "    \n",
    "graph=wdg.interactive_output(timeseries_graph, {'gcols':series, 'gscale':scale})\n",
    "    \n",
    "display(controls, graph)"
   ]
  },
  {
   "cell_type": "code",
   "execution_count": null,
   "metadata": {},
   "outputs": [],
   "source": []
  }
 ],
 "metadata": {
  "kernelspec": {
   "display_name": "Python 3 (ipykernel)",
   "language": "python",
   "name": "python3"
  },
  "language_info": {
   "codemirror_mode": {
    "name": "ipython",
    "version": 3
   },
   "file_extension": ".py",
   "mimetype": "text/x-python",
   "name": "python",
   "nbconvert_exporter": "python",
   "pygments_lexer": "ipython3",
   "version": "3.10.6"
  }
 },
 "nbformat": 4,
 "nbformat_minor": 4
}
